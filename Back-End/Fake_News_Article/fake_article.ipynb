{
 "cells": [
  {
   "cell_type": "markdown",
   "metadata": {
    "colab_type": "text",
    "id": "PSJYtTBX_fY3"
   },
   "source": [
    "# Fake News Detection from articles\n",
    "- ![](https://www.geo.tv/assets/uploads/updates/2018-07-18/l_203781_040549_updates.jpg)\n",
    "- Some fake articles have relatively frequent use of\n",
    "terms seemingly intended to inspire outrage and the\n",
    "present writing skill in such articles is generally\n",
    "considerably lesser than in standard news."
   ]
  },
  {
   "cell_type": "markdown",
   "metadata": {
    "colab_type": "text",
    "id": "4lc8Bm_g_rpp"
   },
   "source": [
    "## Importing libraries"
   ]
  },
  {
   "cell_type": "code",
   "execution_count": 4,
   "metadata": {},
   "outputs": [
    {
     "name": "stdout",
     "output_type": "stream",
     "text": [
      "Collecting opencv-python\n",
      "  Downloading opencv_python-4.10.0.84-cp37-abi3-win_amd64.whl.metadata (20 kB)\n",
      "Requirement already satisfied: numpy>=1.21.2 in c:\\users\\nd.son\\anaconda3\\lib\\site-packages (from opencv-python) (1.26.4)\n",
      "Downloading opencv_python-4.10.0.84-cp37-abi3-win_amd64.whl (38.8 MB)\n",
      "   ---------------------------------------- 0.0/38.8 MB ? eta -:--:--\n",
      "   ---------------------------------------- 0.0/38.8 MB 1.3 MB/s eta 0:00:31\n",
      "   ---------------------------------------- 0.2/38.8 MB 2.9 MB/s eta 0:00:14\n",
      "    --------------------------------------- 0.5/38.8 MB 4.1 MB/s eta 0:00:10\n",
      "   - -------------------------------------- 1.1/38.8 MB 6.4 MB/s eta 0:00:06\n",
      "   - -------------------------------------- 1.6/38.8 MB 7.6 MB/s eta 0:00:05\n",
      "   -- ------------------------------------- 2.0/38.8 MB 8.1 MB/s eta 0:00:05\n",
      "   -- ------------------------------------- 2.5/38.8 MB 8.9 MB/s eta 0:00:05\n",
      "   --- ------------------------------------ 3.0/38.8 MB 9.0 MB/s eta 0:00:04\n",
      "   --- ------------------------------------ 3.1/38.8 MB 9.2 MB/s eta 0:00:04\n",
      "   --- ------------------------------------ 3.5/38.8 MB 8.6 MB/s eta 0:00:05\n",
      "   ---- ----------------------------------- 4.4/38.8 MB 9.6 MB/s eta 0:00:04\n",
      "   ---- ----------------------------------- 4.8/38.8 MB 9.9 MB/s eta 0:00:04\n",
      "   ----- ---------------------------------- 5.3/38.8 MB 10.2 MB/s eta 0:00:04\n",
      "   ------ --------------------------------- 5.9/38.8 MB 10.2 MB/s eta 0:00:04\n",
      "   ------ --------------------------------- 6.4/38.8 MB 10.4 MB/s eta 0:00:04\n",
      "   ------- -------------------------------- 6.8/38.8 MB 10.4 MB/s eta 0:00:04\n",
      "   ------- -------------------------------- 7.3/38.8 MB 10.4 MB/s eta 0:00:04\n",
      "   ------- -------------------------------- 7.8/38.8 MB 10.5 MB/s eta 0:00:03\n",
      "   -------- ------------------------------- 8.2/38.8 MB 10.7 MB/s eta 0:00:03\n",
      "   -------- ------------------------------- 8.7/38.8 MB 10.7 MB/s eta 0:00:03\n",
      "   --------- ------------------------------ 9.2/38.8 MB 10.6 MB/s eta 0:00:03\n",
      "   --------- ------------------------------ 9.6/38.8 MB 10.8 MB/s eta 0:00:03\n",
      "   ---------- ----------------------------- 10.1/38.8 MB 10.8 MB/s eta 0:00:03\n",
      "   ---------- ----------------------------- 10.6/38.8 MB 11.7 MB/s eta 0:00:03\n",
      "   ----------- ---------------------------- 11.0/38.8 MB 11.7 MB/s eta 0:00:03\n",
      "   ----------- ---------------------------- 11.5/38.8 MB 11.7 MB/s eta 0:00:03\n",
      "   ------------ --------------------------- 12.0/38.8 MB 11.7 MB/s eta 0:00:03\n",
      "   ------------ --------------------------- 12.4/38.8 MB 11.7 MB/s eta 0:00:03\n",
      "   ------------- -------------------------- 13.0/38.8 MB 11.7 MB/s eta 0:00:03\n",
      "   ------------- -------------------------- 13.5/38.8 MB 12.4 MB/s eta 0:00:03\n",
      "   -------------- ------------------------- 14.0/38.8 MB 12.1 MB/s eta 0:00:03\n",
      "   -------------- ------------------------- 14.4/38.8 MB 11.9 MB/s eta 0:00:03\n",
      "   --------------- ------------------------ 14.9/38.8 MB 11.7 MB/s eta 0:00:03\n",
      "   --------------- ------------------------ 15.4/38.8 MB 11.7 MB/s eta 0:00:03\n",
      "   ---------------- ----------------------- 15.8/38.8 MB 11.9 MB/s eta 0:00:02\n",
      "   ---------------- ----------------------- 16.3/38.8 MB 11.7 MB/s eta 0:00:02\n",
      "   ----------------- ---------------------- 16.7/38.8 MB 11.9 MB/s eta 0:00:02\n",
      "   ----------------- ---------------------- 17.2/38.8 MB 11.7 MB/s eta 0:00:02\n",
      "   ------------------ --------------------- 17.7/38.8 MB 11.9 MB/s eta 0:00:02\n",
      "   ------------------ --------------------- 18.1/38.8 MB 11.7 MB/s eta 0:00:02\n",
      "   ------------------ --------------------- 18.4/38.8 MB 11.7 MB/s eta 0:00:02\n",
      "   ------------------- -------------------- 19.2/38.8 MB 11.7 MB/s eta 0:00:02\n",
      "   -------------------- ------------------- 19.7/38.8 MB 11.7 MB/s eta 0:00:02\n",
      "   -------------------- ------------------- 20.1/38.8 MB 11.7 MB/s eta 0:00:02\n",
      "   --------------------- ------------------ 20.6/38.8 MB 11.7 MB/s eta 0:00:02\n",
      "   --------------------- ------------------ 21.2/38.8 MB 11.9 MB/s eta 0:00:02\n",
      "   ---------------------- ----------------- 21.7/38.8 MB 11.9 MB/s eta 0:00:02\n",
      "   ---------------------- ----------------- 22.1/38.8 MB 11.7 MB/s eta 0:00:02\n",
      "   ----------------------- ---------------- 22.6/38.8 MB 11.9 MB/s eta 0:00:02\n",
      "   ----------------------- ---------------- 23.1/38.8 MB 11.7 MB/s eta 0:00:02\n",
      "   ------------------------ --------------- 23.5/38.8 MB 11.7 MB/s eta 0:00:02\n",
      "   ------------------------ --------------- 24.0/38.8 MB 11.7 MB/s eta 0:00:02\n",
      "   ------------------------- -------------- 24.4/38.8 MB 11.9 MB/s eta 0:00:02\n",
      "   ------------------------- -------------- 24.9/38.8 MB 11.7 MB/s eta 0:00:02\n",
      "   -------------------------- ------------- 25.4/38.8 MB 11.7 MB/s eta 0:00:02\n",
      "   -------------------------- ------------- 25.9/38.8 MB 11.7 MB/s eta 0:00:02\n",
      "   --------------------------- ------------ 26.3/38.8 MB 11.7 MB/s eta 0:00:02\n",
      "   --------------------------- ------------ 26.8/38.8 MB 11.9 MB/s eta 0:00:02\n",
      "   ---------------------------- ----------- 27.3/38.8 MB 11.7 MB/s eta 0:00:01\n",
      "   ---------------------------- ----------- 27.9/38.8 MB 11.7 MB/s eta 0:00:01\n",
      "   ----------------------------- ---------- 28.4/38.8 MB 11.9 MB/s eta 0:00:01\n",
      "   ----------------------------- ---------- 28.9/38.8 MB 12.1 MB/s eta 0:00:01\n",
      "   ------------------------------ --------- 29.4/38.8 MB 11.7 MB/s eta 0:00:01\n",
      "   ------------------------------ --------- 30.0/38.8 MB 11.7 MB/s eta 0:00:01\n",
      "   ------------------------------- -------- 30.4/38.8 MB 11.7 MB/s eta 0:00:01\n",
      "   ------------------------------- -------- 30.9/38.8 MB 11.7 MB/s eta 0:00:01\n",
      "   -------------------------------- ------- 31.5/38.8 MB 11.7 MB/s eta 0:00:01\n",
      "   -------------------------------- ------- 31.9/38.8 MB 11.9 MB/s eta 0:00:01\n",
      "   --------------------------------- ------ 32.4/38.8 MB 11.7 MB/s eta 0:00:01\n",
      "   --------------------------------- ------ 32.9/38.8 MB 11.7 MB/s eta 0:00:01\n",
      "   ---------------------------------- ----- 33.5/38.8 MB 11.7 MB/s eta 0:00:01\n",
      "   ----------------------------------- ---- 34.1/38.8 MB 11.5 MB/s eta 0:00:01\n",
      "   ----------------------------------- ---- 34.7/38.8 MB 11.7 MB/s eta 0:00:01\n",
      "   ------------------------------------ --- 35.3/38.8 MB 11.7 MB/s eta 0:00:01\n",
      "   ------------------------------------ --- 35.7/38.8 MB 11.7 MB/s eta 0:00:01\n",
      "   ------------------------------------- -- 36.1/38.8 MB 11.9 MB/s eta 0:00:01\n",
      "   ------------------------------------- -- 36.6/38.8 MB 11.7 MB/s eta 0:00:01\n",
      "   -------------------------------------- - 37.1/38.8 MB 11.7 MB/s eta 0:00:01\n",
      "   -------------------------------------- - 37.6/38.8 MB 11.5 MB/s eta 0:00:01\n",
      "   ---------------------------------------  38.0/38.8 MB 11.7 MB/s eta 0:00:01\n",
      "   ---------------------------------------  38.5/38.8 MB 11.9 MB/s eta 0:00:01\n",
      "   ---------------------------------------  38.8/38.8 MB 11.7 MB/s eta 0:00:01\n",
      "   ---------------------------------------  38.8/38.8 MB 11.7 MB/s eta 0:00:01\n",
      "   ---------------------------------------  38.8/38.8 MB 11.7 MB/s eta 0:00:01\n",
      "   ---------------------------------------  38.8/38.8 MB 11.7 MB/s eta 0:00:01\n",
      "   ---------------------------------------  38.8/38.8 MB 11.7 MB/s eta 0:00:01\n",
      "   ---------------------------------------  38.8/38.8 MB 11.7 MB/s eta 0:00:01\n",
      "   ---------------------------------------  38.8/38.8 MB 11.7 MB/s eta 0:00:01\n",
      "   ---------------------------------------  38.8/38.8 MB 11.7 MB/s eta 0:00:01\n",
      "   ---------------------------------------- 38.8/38.8 MB 8.5 MB/s eta 0:00:00\n",
      "Installing collected packages: opencv-python\n",
      "Successfully installed opencv-python-4.10.0.84\n"
     ]
    }
   ],
   "source": [
    "!pip install opencv-python"
   ]
  },
  {
   "cell_type": "code",
   "execution_count": 5,
   "metadata": {
    "colab": {},
    "colab_type": "code",
    "id": "DG50AN5k_bsn"
   },
   "outputs": [],
   "source": [
    "import pandas as pd\n",
    "import numpy as np\n",
    "from sklearn.model_selection import train_test_split\n",
    "import requests\n",
    "import bs4\n",
    "from bs4 import BeautifulSoup\n",
    "import ipywidgets as widgets\n",
    "from IPython.display import display\n",
    "#from google.colab.patches import cv2_imshow\n",
    "import cv2\n",
    "from matplotlib import pyplot as plt\n",
    "from IPython.display import Image,display\n",
    "import os\n",
    "fake = Image('https://techcrunch.com/wp-content/uploads/2017/09/fake-news.jpg')\n",
    "real = Image('https://mcdn.coolmate.me/image/October2023/tin-chuan-chua-anh-meme-3089_702.jpg')"
   ]
  },
  {
   "cell_type": "code",
   "execution_count": 6,
   "metadata": {
    "colab": {
     "base_uri": "https://localhost:8080/",
     "height": 1000
    },
    "colab_type": "code",
    "executionInfo": {
     "elapsed": 17077,
     "status": "ok",
     "timestamp": 1584121298735,
     "user": {
      "displayName": "Abhilash Reddy Shankarampeta",
      "photoUrl": "https://lh3.googleusercontent.com/a-/AOh14GhxHTuZOWjEyFx3HIlP3D_Jro5N6UB03JzDQtxIdw=s64",
      "userId": "16105235945435801146"
     },
     "user_tz": -330
    },
    "id": "mApMdHWW-Ita",
    "outputId": "9ce8aaba-73f9-4703-b479-1d1c08c29997"
   },
   "outputs": [
    {
     "name": "stdout",
     "output_type": "stream",
     "text": [
      "Requirement already satisfied: transformers in c:\\users\\nd.son\\anaconda3\\lib\\site-packages (4.44.2)\n",
      "Requirement already satisfied: filelock in c:\\users\\nd.son\\anaconda3\\lib\\site-packages (from transformers) (3.13.1)\n",
      "Requirement already satisfied: huggingface-hub<1.0,>=0.23.2 in c:\\users\\nd.son\\anaconda3\\lib\\site-packages (from transformers) (0.24.6)\n",
      "Requirement already satisfied: numpy>=1.17 in c:\\users\\nd.son\\anaconda3\\lib\\site-packages (from transformers) (1.26.4)\n",
      "Requirement already satisfied: packaging>=20.0 in c:\\users\\nd.son\\anaconda3\\lib\\site-packages (from transformers) (23.2)\n",
      "Requirement already satisfied: pyyaml>=5.1 in c:\\users\\nd.son\\anaconda3\\lib\\site-packages (from transformers) (6.0.1)\n",
      "Requirement already satisfied: regex!=2019.12.17 in c:\\users\\nd.son\\anaconda3\\lib\\site-packages (from transformers) (2023.10.3)\n",
      "Requirement already satisfied: requests in c:\\users\\nd.son\\anaconda3\\lib\\site-packages (from transformers) (2.32.2)\n",
      "Requirement already satisfied: safetensors>=0.4.1 in c:\\users\\nd.son\\anaconda3\\lib\\site-packages (from transformers) (0.4.4)\n",
      "Requirement already satisfied: tokenizers<0.20,>=0.19 in c:\\users\\nd.son\\anaconda3\\lib\\site-packages (from transformers) (0.19.1)\n",
      "Requirement already satisfied: tqdm>=4.27 in c:\\users\\nd.son\\anaconda3\\lib\\site-packages (from transformers) (4.66.4)\n",
      "Requirement already satisfied: fsspec>=2023.5.0 in c:\\users\\nd.son\\anaconda3\\lib\\site-packages (from huggingface-hub<1.0,>=0.23.2->transformers) (2024.3.1)\n",
      "Requirement already satisfied: typing-extensions>=3.7.4.3 in c:\\users\\nd.son\\anaconda3\\lib\\site-packages (from huggingface-hub<1.0,>=0.23.2->transformers) (4.11.0)\n",
      "Requirement already satisfied: colorama in c:\\users\\nd.son\\anaconda3\\lib\\site-packages (from tqdm>=4.27->transformers) (0.4.6)\n",
      "Requirement already satisfied: charset-normalizer<4,>=2 in c:\\users\\nd.son\\anaconda3\\lib\\site-packages (from requests->transformers) (2.0.4)\n",
      "Requirement already satisfied: idna<4,>=2.5 in c:\\users\\nd.son\\anaconda3\\lib\\site-packages (from requests->transformers) (3.7)\n",
      "Requirement already satisfied: urllib3<3,>=1.21.1 in c:\\users\\nd.son\\anaconda3\\lib\\site-packages (from requests->transformers) (2.2.2)\n",
      "Requirement already satisfied: certifi>=2017.4.17 in c:\\users\\nd.son\\anaconda3\\lib\\site-packages (from requests->transformers) (2024.6.2)\n",
      "Requirement already satisfied: pytorch_pretrained_bert in c:\\users\\nd.son\\anaconda3\\lib\\site-packages (0.6.2)\n",
      "Requirement already satisfied: torch>=0.4.1 in c:\\users\\nd.son\\anaconda3\\lib\\site-packages (from pytorch_pretrained_bert) (2.4.0)\n",
      "Requirement already satisfied: numpy in c:\\users\\nd.son\\anaconda3\\lib\\site-packages (from pytorch_pretrained_bert) (1.26.4)\n",
      "Requirement already satisfied: boto3 in c:\\users\\nd.son\\anaconda3\\lib\\site-packages (from pytorch_pretrained_bert) (1.35.5)\n",
      "Requirement already satisfied: requests in c:\\users\\nd.son\\anaconda3\\lib\\site-packages (from pytorch_pretrained_bert) (2.32.2)\n",
      "Requirement already satisfied: tqdm in c:\\users\\nd.son\\anaconda3\\lib\\site-packages (from pytorch_pretrained_bert) (4.66.4)\n",
      "Requirement already satisfied: regex in c:\\users\\nd.son\\anaconda3\\lib\\site-packages (from pytorch_pretrained_bert) (2023.10.3)\n",
      "Requirement already satisfied: filelock in c:\\users\\nd.son\\anaconda3\\lib\\site-packages (from torch>=0.4.1->pytorch_pretrained_bert) (3.13.1)\n",
      "Requirement already satisfied: typing-extensions>=4.8.0 in c:\\users\\nd.son\\anaconda3\\lib\\site-packages (from torch>=0.4.1->pytorch_pretrained_bert) (4.11.0)\n",
      "Requirement already satisfied: sympy in c:\\users\\nd.son\\anaconda3\\lib\\site-packages (from torch>=0.4.1->pytorch_pretrained_bert) (1.12)\n",
      "Requirement already satisfied: networkx in c:\\users\\nd.son\\anaconda3\\lib\\site-packages (from torch>=0.4.1->pytorch_pretrained_bert) (3.2.1)\n",
      "Requirement already satisfied: jinja2 in c:\\users\\nd.son\\anaconda3\\lib\\site-packages (from torch>=0.4.1->pytorch_pretrained_bert) (3.1.4)\n",
      "Requirement already satisfied: fsspec in c:\\users\\nd.son\\anaconda3\\lib\\site-packages (from torch>=0.4.1->pytorch_pretrained_bert) (2024.3.1)\n",
      "Requirement already satisfied: setuptools in c:\\users\\nd.son\\anaconda3\\lib\\site-packages (from torch>=0.4.1->pytorch_pretrained_bert) (69.5.1)\n",
      "Requirement already satisfied: botocore<1.36.0,>=1.35.5 in c:\\users\\nd.son\\anaconda3\\lib\\site-packages (from boto3->pytorch_pretrained_bert) (1.35.5)\n",
      "Requirement already satisfied: jmespath<2.0.0,>=0.7.1 in c:\\users\\nd.son\\anaconda3\\lib\\site-packages (from boto3->pytorch_pretrained_bert) (1.0.1)\n",
      "Requirement already satisfied: s3transfer<0.11.0,>=0.10.0 in c:\\users\\nd.son\\anaconda3\\lib\\site-packages (from boto3->pytorch_pretrained_bert) (0.10.2)\n",
      "Requirement already satisfied: charset-normalizer<4,>=2 in c:\\users\\nd.son\\anaconda3\\lib\\site-packages (from requests->pytorch_pretrained_bert) (2.0.4)\n",
      "Requirement already satisfied: idna<4,>=2.5 in c:\\users\\nd.son\\anaconda3\\lib\\site-packages (from requests->pytorch_pretrained_bert) (3.7)\n",
      "Requirement already satisfied: urllib3<3,>=1.21.1 in c:\\users\\nd.son\\anaconda3\\lib\\site-packages (from requests->pytorch_pretrained_bert) (2.2.2)\n",
      "Requirement already satisfied: certifi>=2017.4.17 in c:\\users\\nd.son\\anaconda3\\lib\\site-packages (from requests->pytorch_pretrained_bert) (2024.6.2)\n",
      "Requirement already satisfied: colorama in c:\\users\\nd.son\\anaconda3\\lib\\site-packages (from tqdm->pytorch_pretrained_bert) (0.4.6)\n",
      "Requirement already satisfied: python-dateutil<3.0.0,>=2.1 in c:\\users\\nd.son\\anaconda3\\lib\\site-packages (from botocore<1.36.0,>=1.35.5->boto3->pytorch_pretrained_bert) (2.9.0.post0)\n",
      "Requirement already satisfied: MarkupSafe>=2.0 in c:\\users\\nd.son\\anaconda3\\lib\\site-packages (from jinja2->torch>=0.4.1->pytorch_pretrained_bert) (2.1.3)\n",
      "Requirement already satisfied: mpmath>=0.19 in c:\\users\\nd.son\\anaconda3\\lib\\site-packages (from sympy->torch>=0.4.1->pytorch_pretrained_bert) (1.3.0)\n",
      "Requirement already satisfied: six>=1.5 in c:\\users\\nd.son\\anaconda3\\lib\\site-packages (from python-dateutil<3.0.0,>=2.1->botocore<1.36.0,>=1.35.5->boto3->pytorch_pretrained_bert) (1.16.0)\n"
     ]
    }
   ],
   "source": [
    "!pip install transformers\n",
    "!pip install pytorch_pretrained_bert"
   ]
  },
  {
   "cell_type": "code",
   "execution_count": 8,
   "metadata": {
    "colab": {
     "base_uri": "https://localhost:8080/",
     "height": 80
    },
    "colab_type": "code",
    "executionInfo": {
     "elapsed": 11889,
     "status": "ok",
     "timestamp": 1584121303170,
     "user": {
      "displayName": "Abhilash Reddy Shankarampeta",
      "photoUrl": "https://lh3.googleusercontent.com/a-/AOh14GhxHTuZOWjEyFx3HIlP3D_Jro5N6UB03JzDQtxIdw=s64",
      "userId": "16105235945435801146"
     },
     "user_tz": -330
    },
    "id": "iQUBpviv-WXX",
    "outputId": "1aae8193-950f-4732-cdda-fd349f0ba28a"
   },
   "outputs": [],
   "source": [
    "import torch.nn as nn\n",
    "import torch\n",
    "from pytorch_pretrained_bert import BertTokenizer, BertModel\n",
    "from keras_preprocessing.sequence import pad_sequences\n",
    "from sklearn.metrics import classification_report"
   ]
  },
  {
   "cell_type": "markdown",
   "metadata": {
    "colab_type": "text",
    "id": "rHDT6fzL_zmf"
   },
   "source": [
    "## Model"
   ]
  },
  {
   "cell_type": "markdown",
   "metadata": {
    "colab_type": "text",
    "id": "az0dCFyR0v3E"
   },
   "source": [
    "## Description\n",
    "- Used [BERT: Pre-training of Deep Bidirectional Transformers for Language Understanding](https://arxiv.org/abs/1810.04805) with fine tuning\n",
    "- BERT, which stands for Bidirectional Encoder Representations from Transformers.\n",
    "- BERT is designed to pretrain deep bidirectional representations from\n",
    "unlabeled text by jointly conditioning on both\n",
    "left and right context in all layers. As a result, the pre-trained BERT model can be finetuned with just one additional output layer\n",
    "to create state-of-the-art models for a wide\n",
    "range of tasks, such as question answering and\n",
    "language inference, without substantial taskspecific architecture modifications.\n",
    "- ![](https://github.com/manideep2510/siamese-BERT-fake-news-detection-LIAR/blob/master/doc_images/bert.png?raw=true)"
   ]
  },
  {
   "cell_type": "markdown",
   "metadata": {
    "colab_type": "text",
    "id": "Zl4u_52p0o1V"
   },
   "source": [
    "#### Code"
   ]
  },
  {
   "cell_type": "code",
   "execution_count": 9,
   "metadata": {
    "colab": {},
    "colab_type": "code",
    "id": "6ZefEfR_-dXG"
   },
   "outputs": [],
   "source": [
    "class BertBinaryClassifier(nn.Module):\n",
    "    def __init__(self, dropout=0.1):\n",
    "        super(BertBinaryClassifier, self).__init__()\n",
    "        self.bert = BertModel.from_pretrained('bert-base-uncased')\n",
    "        self.dropout = nn.Dropout(dropout)\n",
    "        self.linear = nn.Linear(768, 1)\n",
    "        self.sigmoid = nn.Sigmoid()\n",
    "    \n",
    "    def forward(self, tokens, masks=None):\n",
    "        _, pooled_output = self.bert(tokens, attention_mask=masks, output_all_encoded_layers=False)\n",
    "        dropout_output = self.dropout(pooled_output)\n",
    "        linear_output = self.linear(dropout_output)\n",
    "        proba = self.sigmoid(linear_output)\n",
    "        return proba"
   ]
  },
  {
   "cell_type": "markdown",
   "metadata": {
    "colab_type": "text",
    "id": "fJE95ARE_3FN"
   },
   "source": [
    "## Preprocessing\n",
    "- Used [BeautifulSoup](https://www.crummy.com/software/BeautifulSoup/) for scraping articles from the web, Beautiful Soup is a Python library designed for quick turnaround projects like screen-scraping\n",
    "- Also used some custom made functions for removing punctuation etc.\n",
    "-![](https://miro.medium.com/max/495/1*AaAIETIq7XNlLrFQW7BtZg.png)"
   ]
  },
  {
   "cell_type": "markdown",
   "metadata": {
    "colab_type": "text",
    "id": "WoOEjI0f2w4j"
   },
   "source": [
    "### code"
   ]
  },
  {
   "cell_type": "code",
   "execution_count": 10,
   "metadata": {
    "colab": {
     "base_uri": "https://localhost:8080/",
     "height": 34
    },
    "colab_type": "code",
    "executionInfo": {
     "elapsed": 3322,
     "status": "ok",
     "timestamp": 1584121306802,
     "user": {
      "displayName": "Abhilash Reddy Shankarampeta",
      "photoUrl": "https://lh3.googleusercontent.com/a-/AOh14GhxHTuZOWjEyFx3HIlP3D_Jro5N6UB03JzDQtxIdw=s64",
      "userId": "16105235945435801146"
     },
     "user_tz": -330
    },
    "id": "-GtLv6ON-i0H",
    "outputId": "ec4d35bb-6cc4-4907-d9b8-38a27a626fc4"
   },
   "outputs": [],
   "source": [
    "tokenizer = BertTokenizer.from_pretrained('bert-base-uncased', do_lower_case=True)"
   ]
  },
  {
   "cell_type": "code",
   "execution_count": 11,
   "metadata": {
    "colab": {},
    "colab_type": "code",
    "id": "g-gVAeXq-pZ3"
   },
   "outputs": [
    {
     "name": "stderr",
     "output_type": "stream",
     "text": [
      "<>:4: SyntaxWarning: invalid escape sequence '\\,'\n",
      "<>:4: SyntaxWarning: invalid escape sequence '\\,'\n",
      "C:\\Users\\ND.Son\\AppData\\Local\\Temp\\ipykernel_13316\\84403587.py:4: SyntaxWarning: invalid escape sequence '\\,'\n",
      "  punctuations = '''!()-[]{};:'\"\\,<>./?@#$%^&*_~'''\n"
     ]
    }
   ],
   "source": [
    "def Punctuation(string): \n",
    "  \n",
    "    # punctuation marks \n",
    "    punctuations = '''!()-[]{};:'\"\\,<>./?@#$%^&*_~'''\n",
    "  \n",
    "    # traverse the given string and if any punctuation \n",
    "    # marks occur replace it with null \n",
    "    for x in string.lower(): \n",
    "        if x in punctuations: \n",
    "            string = string.replace(x, \"\") \n",
    "  \n",
    "    # return string without punctuation \n",
    "    return string"
   ]
  },
  {
   "cell_type": "code",
   "execution_count": 12,
   "metadata": {
    "colab": {},
    "colab_type": "code",
    "id": "o_8N4TQ0-svt"
   },
   "outputs": [],
   "source": [
    "def get_text(url):\n",
    "    try:\n",
    "        result=requests.get(str(url))\n",
    "    except Exception:\n",
    "        print(\"error in scraping url\")\n",
    "        return None\n",
    "    src=result.content\n",
    "    soup=BeautifulSoup(src,'lxml')   \n",
    "    text=[]\t\n",
    "    for p_tag in soup.find_all('p'):\n",
    "        text.append(p_tag.text)\n",
    "    text = Punctuation(str(text))\n",
    "    return text"
   ]
  },
  {
   "cell_type": "markdown",
   "metadata": {
    "colab_type": "text",
    "id": "bcl1xgGW_9BR"
   },
   "source": [
    "## Testing"
   ]
  },
  {
   "cell_type": "code",
   "execution_count": null,
   "metadata": {
    "colab": {},
    "colab_type": "code",
    "id": "KoL_jGlmCFdn"
   },
   "outputs": [],
   "source": [
    "# drive_link = 'https://drive.google.com/open?id=108JY7_yROQQsJDFbusVPP1aUmkZ4xe16'"
   ]
  },
  {
   "cell_type": "code",
   "execution_count": 14,
   "metadata": {
    "colab": {
     "base_uri": "https://localhost:8080/",
     "height": 1000
    },
    "colab_type": "code",
    "executionInfo": {
     "elapsed": 58748,
     "status": "ok",
     "timestamp": 1584121394110,
     "user": {
      "displayName": "Abhilash Reddy Shankarampeta",
      "photoUrl": "https://lh3.googleusercontent.com/a-/AOh14GhxHTuZOWjEyFx3HIlP3D_Jro5N6UB03JzDQtxIdw=s64",
      "userId": "16105235945435801146"
     },
     "user_tz": -330
    },
    "id": "h3SydoSl-u7q",
    "outputId": "e29c006a-bb96-4c2c-8ae7-e32e0927b2b2"
   },
   "outputs": [
    {
     "name": "stderr",
     "output_type": "stream",
     "text": [
      "C:\\Users\\ND.Son\\AppData\\Local\\Temp\\ipykernel_13316\\3301462054.py:5: FutureWarning: You are using `torch.load` with `weights_only=False` (the current default value), which uses the default pickle module implicitly. It is possible to construct malicious pickle data which will execute arbitrary code during unpickling (See https://github.com/pytorch/pytorch/blob/main/SECURITY.md#untrusted-models for more details). In a future release, the default value for `weights_only` will be flipped to `True`. This limits the functions that could be executed during unpickling. Arbitrary objects will no longer be allowed to be loaded via this mode unless they are explicitly allowlisted by the user via `torch.serialization.add_safe_globals`. We recommend you start setting `weights_only=True` for any use case where you don't have full control of the loaded file. Please open an issue on GitHub for any issues related to this experimental feature.\n",
      "  model.load_state_dict(torch.load(path))\n"
     ]
    },
    {
     "data": {
      "text/plain": [
       "BertBinaryClassifier(\n",
       "  (bert): BertModel(\n",
       "    (embeddings): BertEmbeddings(\n",
       "      (word_embeddings): Embedding(30522, 768, padding_idx=0)\n",
       "      (position_embeddings): Embedding(512, 768)\n",
       "      (token_type_embeddings): Embedding(2, 768)\n",
       "      (LayerNorm): BertLayerNorm()\n",
       "      (dropout): Dropout(p=0.1, inplace=False)\n",
       "    )\n",
       "    (encoder): BertEncoder(\n",
       "      (layer): ModuleList(\n",
       "        (0-11): 12 x BertLayer(\n",
       "          (attention): BertAttention(\n",
       "            (self): BertSelfAttention(\n",
       "              (query): Linear(in_features=768, out_features=768, bias=True)\n",
       "              (key): Linear(in_features=768, out_features=768, bias=True)\n",
       "              (value): Linear(in_features=768, out_features=768, bias=True)\n",
       "              (dropout): Dropout(p=0.1, inplace=False)\n",
       "            )\n",
       "            (output): BertSelfOutput(\n",
       "              (dense): Linear(in_features=768, out_features=768, bias=True)\n",
       "              (LayerNorm): BertLayerNorm()\n",
       "              (dropout): Dropout(p=0.1, inplace=False)\n",
       "            )\n",
       "          )\n",
       "          (intermediate): BertIntermediate(\n",
       "            (dense): Linear(in_features=768, out_features=3072, bias=True)\n",
       "          )\n",
       "          (output): BertOutput(\n",
       "            (dense): Linear(in_features=3072, out_features=768, bias=True)\n",
       "            (LayerNorm): BertLayerNorm()\n",
       "            (dropout): Dropout(p=0.1, inplace=False)\n",
       "          )\n",
       "        )\n",
       "      )\n",
       "    )\n",
       "    (pooler): BertPooler(\n",
       "      (dense): Linear(in_features=768, out_features=768, bias=True)\n",
       "      (activation): Tanh()\n",
       "    )\n",
       "  )\n",
       "  (dropout): Dropout(p=0.1, inplace=False)\n",
       "  (linear): Linear(in_features=768, out_features=1, bias=True)\n",
       "  (sigmoid): Sigmoid()\n",
       ")"
      ]
     },
     "execution_count": 14,
     "metadata": {},
     "output_type": "execute_result"
    }
   ],
   "source": [
    "path='D:/Fake_News_Article/nb_state256.pth'\n",
    "#weights_url = 'https://drive.google.com/open?id=1r-XIJBfW3EZT6rIqE5kQD96hJb4MoEj7'\n",
    "model = BertBinaryClassifier()\n",
    "# optimizer = torch.optim.Adam(model.parameters(), lr=3e-6)\n",
    "model.load_state_dict(torch.load(path))\n",
    "model.eval()"
   ]
  },
  {
   "cell_type": "code",
   "execution_count": 15,
   "metadata": {
    "colab": {},
    "colab_type": "code",
    "id": "O9cM_JwT-yAb"
   },
   "outputs": [],
   "source": [
    "def test(article,model):\n",
    "    bert_predicted = []\n",
    "    all_logits = []\n",
    "    test_tokens = list(map(lambda t: ['[CLS]'] + tokenizer.tokenize(t)[:255], [article]))\n",
    "    test_tokens_ids = list(map(tokenizer.convert_tokens_to_ids, test_tokens))\n",
    "    test_tokens_ids = pad_sequences(test_tokens_ids, maxlen=256, truncating=\"post\", padding=\"post\", dtype=\"int\")\n",
    "    test_masks = [[float(i > 0) for i in ii] for ii in test_tokens_ids]\n",
    "    test_masks_tensor = torch.tensor(test_masks)\n",
    "    test_tokens_ids = torch.tensor(test_tokens_ids)\n",
    "    with torch.no_grad():\n",
    "        logits = model(test_tokens_ids, test_masks_tensor)\n",
    "        numpy_logits = logits.cpu().detach().numpy()\n",
    "        if(numpy_logits[0,0] > 0.5):\n",
    "            return 'Fake'\n",
    "        else:\n",
    "            return 'True'"
   ]
  },
  {
   "cell_type": "code",
   "execution_count": 16,
   "metadata": {
    "colab": {},
    "colab_type": "code",
    "id": "a58OF1MS-5H3"
   },
   "outputs": [],
   "source": [
    "def answer(url,model):\n",
    "    article = get_text(url)\n",
    "    ans = test(article,model)\n",
    "    return ans"
   ]
  },
  {
   "cell_type": "markdown",
   "metadata": {
    "colab_type": "text",
    "id": "yEyLaMpVADqO"
   },
   "source": [
    "## Inference\n",
    "\n",
    "- Enter the url to test , Add press Shift+Enter for results."
   ]
  },
  {
   "cell_type": "code",
   "execution_count": 23,
   "metadata": {
    "cellView": "both",
    "colab": {
     "base_uri": "https://localhost:8080/",
     "height": 326
    },
    "colab_type": "code",
    "executionInfo": {
     "elapsed": 4152,
     "status": "ok",
     "timestamp": 1584121466145,
     "user": {
      "displayName": "Abhilash Reddy Shankarampeta",
      "photoUrl": "https://lh3.googleusercontent.com/a-/AOh14GhxHTuZOWjEyFx3HIlP3D_Jro5N6UB03JzDQtxIdw=s64",
      "userId": "16105235945435801146"
     },
     "user_tz": -330
    },
    "id": "Nin4RKPP_As4",
    "outputId": "c1bc1441-07c6-4320-80d6-85705e98e95d"
   },
   "outputs": [
    {
     "data": {
      "image/jpeg": "[encoded data removed]",
      "text/plain": [
       "<IPython.core.display.Image object>"
      ]
     },
     "metadata": {},
     "output_type": "display_data"
    }
   ],
   "source": [
    "#@title Fake Article Detection\n",
    "\n",
    "url = 'https://abcnews.go.com/Politics/appeals-court-mueller-properly-appointed-orders-stone-aide/story?id=61327058' #@param {type:\"string\"}\n",
    "# button = widgets.Button(description=\"Enter\")\n",
    "# output = widgets.Output()\n",
    "# display(button, output)\n",
    "#print(answer(url,model))\n",
    "if (answer(url,model)=='True'):\n",
    "    display(real)\n",
    "else:\n",
    "    display(fake)"
   ]
  },
  {
   "cell_type": "code",
   "execution_count": null,
   "metadata": {},
   "outputs": [],
   "source": []
  }
 ],
 "metadata": {
  "accelerator": "GPU",
  "colab": {
   "authorship_tag": "ABX9TyMP5SVno8FiJDtzpgjdsW76",
   "collapsed_sections": [
    "4lc8Bm_g_rpp",
    "Zl4u_52p0o1V",
    "WoOEjI0f2w4j",
    "bcl1xgGW_9BR"
   ],
   "mount_file_id": "1QecBmBS2Sy7bzALCntDBBLfS1ewRC0lF",
   "name": "fake_article.ipynb",
   "provenance": []
  },
  "kernelspec": {
   "display_name": "Python 3 (ipykernel)",
   "language": "python",
   "name": "python3"
  },
  "language_info": {
   "codemirror_mode": {
    "name": "ipython",
    "version": 3
   },
   "file_extension": ".py",
   "mimetype": "text/x-python",
   "name": "python",
   "nbconvert_exporter": "python",
   "pygments_lexer": "ipython3",
   "version": "3.12.4"
  }
 },
 "nbformat": 4,
 "nbformat_minor": 4
}
